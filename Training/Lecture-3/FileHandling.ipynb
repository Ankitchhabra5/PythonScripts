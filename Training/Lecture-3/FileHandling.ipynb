{
 "cells": [
  {
   "cell_type": "markdown",
   "metadata": {},
   "source": [
    "# File Handling"
   ]
  },
  {
   "cell_type": "markdown",
   "metadata": {},
   "source": [
    "READING FILES"
   ]
  },
  {
   "cell_type": "markdown",
   "metadata": {},
   "source": [
    "A text file can be thought of as a sequence of lines: Python opens the file using built-in function \"open\".\n",
    "To open a file:\n",
    "open(filename,mode)"
   ]
  },
  {
   "cell_type": "markdown",
   "metadata": {},
   "source": [
    "## File Access Modes\n",
    "\n",
    "Access modes govern the type of operations possible in the opened file. It refers to how the file will be used once it is open. These modes also define the location of the File Handle in the file. File handle is like a cursor, which defines from where the data has to be read or written in the file. There are 6 access modes in python.\n",
    "- **Read Only (‘r’)** : Open text file for reading. The handle is positioned at the beginning of the file. If the file does not exists, raises I/O error. This is also the default mode in which file is opened.\n",
    "\n",
    "\n",
    "- **Read and Write (‘r+’)** : Open the file for reading and writing. The handle is positioned at the beginning of the file. Raises I/O error if the file does not exists.\n",
    "\n",
    "\n",
    "- **Write Only (‘w’)** : Open the file for writing. For existing file, the data is truncated and over-written. The handle is positioned at the beginning of the file. Creates the file if the file does not exists.\n",
    "\n",
    "\n",
    "- **Write and Read (‘w+’)** : Open the file for reading and writing. For existing file, data is truncated and over-written. The handle is positioned at the beginning of the file.\n",
    "\n",
    "\n",
    "- **Append Only (‘a’)** : Open the file for writing. The file is created if it does not exist. The handle is positioned at the end of the file. The data being written will be inserted at the end, after the existing data.\n",
    "\n",
    "\n",
    "- **Append and Read (‘a+’)** : Open the file for reading and writing. The file is created if it does not exist. The handle is positioned at the end of the file. The data being written will be inserted at the end, after the existing data."
   ]
  },
  {
   "cell_type": "code",
   "execution_count": 25,
   "metadata": {},
   "outputs": [],
   "source": [
    "filename = 'C:/Users/mmondal1/Desktop/PythonNotebook/UnitedHealthGroup.txt'"
   ]
  },
  {
   "cell_type": "code",
   "execution_count": 31,
   "metadata": {},
   "outputs": [],
   "source": [
    "file= open(filename,'r')"
   ]
  },
  {
   "cell_type": "markdown",
   "metadata": {},
   "source": [
    "1) Method readline: \n",
    "Read and return next line including newline if exists. Return empty string if no more lines in file.\n",
    "useful - when you want to process certain parts of file!"
   ]
  },
  {
   "cell_type": "code",
   "execution_count": 32,
   "metadata": {},
   "outputs": [
    {
     "data": {
      "text/plain": [
       "'UnitedHealth Group- Wikipedia\\n'"
      ]
     },
     "execution_count": 32,
     "metadata": {},
     "output_type": "execute_result"
    }
   ],
   "source": [
    "file.readline()"
   ]
  },
  {
   "cell_type": "code",
   "execution_count": 33,
   "metadata": {},
   "outputs": [
    {
     "data": {
      "text/plain": [
       "'\\n'"
      ]
     },
     "execution_count": 33,
     "metadata": {},
     "output_type": "execute_result"
    }
   ],
   "source": [
    "file.readline()"
   ]
  },
  {
   "cell_type": "code",
   "execution_count": 34,
   "metadata": {},
   "outputs": [
    {
     "data": {
      "text/plain": [
       "'UnitedHealth Group Incorporated is an American for-profit managed health care company\\n'"
      ]
     },
     "execution_count": 34,
     "metadata": {},
     "output_type": "execute_result"
    }
   ],
   "source": [
    "file.readline()"
   ]
  },
  {
   "cell_type": "code",
   "execution_count": 29,
   "metadata": {},
   "outputs": [
    {
     "data": {
      "text/plain": [
       "'based in Minnetonka, Minnesota. It offers health care products and insurance services.\\n'"
      ]
     },
     "execution_count": 29,
     "metadata": {},
     "output_type": "execute_result"
    }
   ],
   "source": [
    "file.readline()"
   ]
  },
  {
   "cell_type": "code",
   "execution_count": 35,
   "metadata": {},
   "outputs": [
    {
     "data": {
      "text/plain": [
       "'based in Minnetonka, Minnesota. It offers health care products and insurance services.\\n'"
      ]
     },
     "execution_count": 35,
     "metadata": {},
     "output_type": "execute_result"
    }
   ],
   "source": [
    "file.readline()"
   ]
  },
  {
   "cell_type": "code",
   "execution_count": 36,
   "metadata": {},
   "outputs": [
    {
     "data": {
      "text/plain": [
       "'It is the largest healthcare company in the world by revenue, with 2018 revenue of $226.2 billion and 115 million customers.\\n'"
      ]
     },
     "execution_count": 36,
     "metadata": {},
     "output_type": "execute_result"
    }
   ],
   "source": [
    "file.readline()"
   ]
  },
  {
   "cell_type": "code",
   "execution_count": 37,
   "metadata": {},
   "outputs": [
    {
     "data": {
      "text/plain": [
       "'\\n'"
      ]
     },
     "execution_count": 37,
     "metadata": {},
     "output_type": "execute_result"
    }
   ],
   "source": [
    "file.readline()"
   ]
  },
  {
   "cell_type": "code",
   "execution_count": 38,
   "metadata": {},
   "outputs": [
    {
     "data": {
      "text/plain": [
       "'UnitedHealthcare includes divisions: \\n'"
      ]
     },
     "execution_count": 38,
     "metadata": {},
     "output_type": "execute_result"
    }
   ],
   "source": [
    "file.readline()"
   ]
  },
  {
   "cell_type": "code",
   "execution_count": 34,
   "metadata": {},
   "outputs": [
    {
     "data": {
      "text/plain": [
       "'UnitedHealthcare Medicare and Retirement - provides health and well-being services to individuals age 65 and older.\\n'"
      ]
     },
     "execution_count": 34,
     "metadata": {},
     "output_type": "execute_result"
    }
   ],
   "source": [
    "file.readline()"
   ]
  },
  {
   "cell_type": "code",
   "execution_count": 39,
   "metadata": {},
   "outputs": [
    {
     "data": {
      "text/plain": [
       "'UnitedHealthcare Employer and Individual - provides health benefit plans and services for large national employers\\n'"
      ]
     },
     "execution_count": 39,
     "metadata": {},
     "output_type": "execute_result"
    }
   ],
   "source": [
    "file.readline()"
   ]
  },
  {
   "cell_type": "code",
   "execution_count": 40,
   "metadata": {},
   "outputs": [
    {
     "data": {
      "text/plain": [
       "'UnitedHealthcare Medicare and Retirement - provides health and well-being services to individuals age 65 and older.\\n'"
      ]
     },
     "execution_count": 40,
     "metadata": {},
     "output_type": "execute_result"
    }
   ],
   "source": [
    "file.readline()"
   ]
  },
  {
   "cell_type": "code",
   "execution_count": 41,
   "metadata": {},
   "outputs": [
    {
     "data": {
      "text/plain": [
       "'UnitedHealthcare Community and State - serves state programs that care for the economically disadvantaged, the medically underserved and people without the benefit of employer-funded health care coverage, in exchange for a monthly premium per member from the state program.'"
      ]
     },
     "execution_count": 41,
     "metadata": {},
     "output_type": "execute_result"
    }
   ],
   "source": [
    "file.readline()"
   ]
  },
  {
   "cell_type": "code",
   "execution_count": 42,
   "metadata": {},
   "outputs": [
    {
     "data": {
      "text/plain": [
       "''"
      ]
     },
     "execution_count": 42,
     "metadata": {},
     "output_type": "execute_result"
    }
   ],
   "source": [
    "file.readline()"
   ]
  },
  {
   "cell_type": "code",
   "execution_count": 44,
   "metadata": {},
   "outputs": [],
   "source": [
    "file.close()\n",
    "file= open(filename,'r')\n",
    "line= file.readline()"
   ]
  },
  {
   "cell_type": "code",
   "execution_count": null,
   "metadata": {},
   "outputs": [],
   "source": []
  },
  {
   "cell_type": "code",
   "execution_count": 45,
   "metadata": {},
   "outputs": [
    {
     "name": "stdout",
     "output_type": "stream",
     "text": [
      "UnitedHealth Group- Wikipedia\n",
      "\n",
      "\n",
      "\n",
      "UnitedHealth Group Incorporated is an American for-profit managed health care company\n",
      "\n",
      "based in Minnetonka, Minnesota. It offers health care products and insurance services.\n",
      "\n",
      "It is the largest healthcare company in the world by revenue, with 2018 revenue of $226.2 billion and 115 million customers.\n",
      "\n",
      "\n",
      "\n",
      "UnitedHealthcare includes divisions: \n",
      "\n",
      "UnitedHealthcare Employer and Individual - provides health benefit plans and services for large national employers\n",
      "\n",
      "UnitedHealthcare Medicare and Retirement - provides health and well-being services to individuals age 65 and older.\n",
      "\n",
      "UnitedHealthcare Community and State - serves state programs that care for the economically disadvantaged, the medically underserved and people without the benefit of employer-funded health care coverage, in exchange for a monthly premium per member from the state program.\n"
     ]
    }
   ],
   "source": [
    "while line != '':\n",
    "    print(line)\n",
    "    line= file.readline()"
   ]
  },
  {
   "cell_type": "code",
   "execution_count": 46,
   "metadata": {},
   "outputs": [
    {
     "name": "stdout",
     "output_type": "stream",
     "text": [
      "UnitedHealth Group- Wikipedia\n",
      "\n",
      "UnitedHealth Group Incorporated is an American for-profit managed health care company\n",
      "based in Minnetonka, Minnesota. It offers health care products and insurance services.\n",
      "It is the largest healthcare company in the world by revenue, with 2018 revenue of $226.2 billion and 115 million customers.\n",
      "\n",
      "UnitedHealthcare includes divisions: \n",
      "UnitedHealthcare Employer and Individual - provides health benefit plans and services for large national employers\n",
      "UnitedHealthcare Medicare and Retirement - provides health and well-being services to individuals age 65 and older.\n",
      "UnitedHealthcare Community and State - serves state programs that care for the economically disadvantaged, the medically underserved and people without the benefit of employer-funded health care coverage, in exchange for a monthly premium per member from the state program."
     ]
    }
   ],
   "source": [
    "file.close()\n",
    "file= open(filename,'r')\n",
    "line= file.readline()\n",
    "while line != '':\n",
    "    print(line, end ='')\n",
    "    line= file.readline()"
   ]
  },
  {
   "cell_type": "code",
   "execution_count": 12,
   "metadata": {},
   "outputs": [],
   "source": [
    "file.close()\n",
    "file= open(filename,'r')\n",
    "line= file.readline()"
   ]
  },
  {
   "cell_type": "code",
   "execution_count": 57,
   "metadata": {},
   "outputs": [
    {
     "data": {
      "text/plain": [
       "'UnitedHealth Group- Wikipedia\\n'"
      ]
     },
     "execution_count": 57,
     "metadata": {},
     "output_type": "execute_result"
    }
   ],
   "source": [
    "line"
   ]
  },
  {
   "cell_type": "code",
   "execution_count": 59,
   "metadata": {},
   "outputs": [
    {
     "name": "stdout",
     "output_type": "stream",
     "text": [
      "UnitedHealth Group Incorporated is an American for-profit managed health care company\n",
      "based in Minnetonka, Minnesota. It offers health care products and insurance services.\n",
      "It is the largest healthcare company in the world by revenue, with 2018 revenue of $226.2 billion and 115 million customers.\n"
     ]
    }
   ],
   "source": [
    "line= file.readline()\n",
    "while line != '\\n':\n",
    "    print(line, end ='')\n",
    "    line= file.readline()"
   ]
  },
  {
   "cell_type": "code",
   "execution_count": 48,
   "metadata": {},
   "outputs": [],
   "source": [
    "file.close()\n",
    "file= open(filename,'r')"
   ]
  },
  {
   "cell_type": "markdown",
   "metadata": {},
   "source": [
    "2) for line in file approach: When you want to process every line in the file. this executes sequentially."
   ]
  },
  {
   "cell_type": "code",
   "execution_count": 49,
   "metadata": {},
   "outputs": [
    {
     "name": "stdout",
     "output_type": "stream",
     "text": [
      "UnitedHealth Group- Wikipedia\n",
      "\n",
      "UnitedHealth Group Incorporated is an American for-profit managed health care company\n",
      "based in Minnetonka, Minnesota. It offers health care products and insurance services.\n",
      "It is the largest healthcare company in the world by revenue, with 2018 revenue of $226.2 billion and 115 million customers.\n",
      "\n",
      "UnitedHealthcare includes divisions: \n",
      "UnitedHealthcare Employer and Individual - provides health benefit plans and services for large national employers\n",
      "UnitedHealthcare Medicare and Retirement - provides health and well-being services to individuals age 65 and older.\n",
      "UnitedHealthcare Community and State - serves state programs that care for the economically disadvantaged, the medically underserved and people without the benefit of employer-funded health care coverage, in exchange for a monthly premium per member from the state program."
     ]
    }
   ],
   "source": [
    "for line in file:\n",
    "    print (line, end='')"
   ]
  },
  {
   "cell_type": "markdown",
   "metadata": {},
   "source": [
    "3) Read approch: Read whole file at once in a single string!\n",
    "    file.read()"
   ]
  },
  {
   "cell_type": "code",
   "execution_count": 51,
   "metadata": {},
   "outputs": [],
   "source": [
    "file.close()\n",
    "file= open(filename,'r')"
   ]
  },
  {
   "cell_type": "code",
   "execution_count": 52,
   "metadata": {},
   "outputs": [
    {
     "data": {
      "text/plain": [
       "'UnitedHealth Group- Wikipedia\\n\\nUnitedHealth Group Incorporated is an American for-profit managed health care company\\nbased in Minnetonka, Minnesota. It offers health care products and insurance services.\\nIt is the largest healthcare company in the world by revenue, with 2018 revenue of $226.2 billion and 115 million customers.\\n\\nUnitedHealthcare includes divisions: \\nUnitedHealthcare Employer and Individual - provides health benefit plans and services for large national employers\\nUnitedHealthcare Medicare and Retirement - provides health and well-being services to individuals age 65 and older.\\nUnitedHealthcare Community and State - serves state programs that care for the economically disadvantaged, the medically underserved and people without the benefit of employer-funded health care coverage, in exchange for a monthly premium per member from the state program.'"
      ]
     },
     "execution_count": 52,
     "metadata": {},
     "output_type": "execute_result"
    }
   ],
   "source": [
    "file.read()"
   ]
  },
  {
   "cell_type": "markdown",
   "metadata": {},
   "source": [
    "4) Readlines approach : To be able to examine each line of file by index.\n",
    "eg. handling profit data\n",
    "    list = files.readines()"
   ]
  },
  {
   "cell_type": "code",
   "execution_count": 53,
   "metadata": {},
   "outputs": [],
   "source": [
    "file.close()\n",
    "file= open(filename,'r')\n",
    "lines = file.readlines()"
   ]
  },
  {
   "cell_type": "code",
   "execution_count": 74,
   "metadata": {},
   "outputs": [
    {
     "data": {
      "text/plain": [
       "['UnitedHealth Group- Wikipedia\\n',\n",
       " '\\n',\n",
       " 'UnitedHealth Group Incorporated is an American for-profit managed health care company\\n',\n",
       " 'based in Minnetonka, Minnesota. It offers health care products and insurance services.\\n',\n",
       " 'It is the largest healthcare company in the world by revenue, with 2018 revenue of $226.2 billion and 115 million customers.\\n',\n",
       " '\\n',\n",
       " 'UnitedHealthcare includes divisions: \\n',\n",
       " 'UnitedHealthcare Employer and Individual - provides health benefit plans and services for large national employers\\n',\n",
       " 'UnitedHealthcare Medicare and Retirement - provides health and well-being services to individuals age 65 and older.\\n',\n",
       " 'UnitedHealthcare Community and State - serves state programs that care for the economically disadvantaged, the medically underserved and people without the benefit of employer-funded health care coverage, in exchange for a monthly premium per member from the state program.']"
      ]
     },
     "execution_count": 74,
     "metadata": {},
     "output_type": "execute_result"
    }
   ],
   "source": [
    "lines"
   ]
  },
  {
   "cell_type": "code",
   "execution_count": 75,
   "metadata": {},
   "outputs": [
    {
     "name": "stdout",
     "output_type": "stream",
     "text": [
      "UnitedHealth Group- Wikipedia\n",
      "\n",
      "UnitedHealth Group Incorporated is an American for-profit managed health care company\n",
      "based in Minnetonka, Minnesota. It offers health care products and insurance services.\n",
      "It is the largest healthcare company in the world by revenue, with 2018 revenue of $226.2 billion and 115 million customers.\n",
      "\n",
      "UnitedHealthcare includes divisions: \n",
      "UnitedHealthcare Employer and Individual - provides health benefit plans and services for large national employers\n",
      "UnitedHealthcare Medicare and Retirement - provides health and well-being services to individuals age 65 and older.\n",
      "UnitedHealthcare Community and State - serves state programs that care for the economically disadvantaged, the medically underserved and people without the benefit of employer-funded health care coverage, in exchange for a monthly premium per member from the state program."
     ]
    }
   ],
   "source": [
    "for line in lines:\n",
    "    print(line, end='')"
   ]
  },
  {
   "cell_type": "markdown",
   "metadata": {},
   "source": [
    "### Moving the cursor\n",
    "\n",
    "- seek(n) : takes the file handle to the nth byte from the beginning. \n",
    "Python file method seek() sets the file's current position at the offset."
   ]
  },
  {
   "cell_type": "code",
   "execution_count": 21,
   "metadata": {},
   "outputs": [
    {
     "data": {
      "text/plain": [
       "14"
      ]
     },
     "execution_count": 21,
     "metadata": {},
     "output_type": "execute_result"
    }
   ],
   "source": [
    "file.close()\n",
    "file= open(filename,'r')\n",
    "file.seek(14)"
   ]
  },
  {
   "cell_type": "code",
   "execution_count": 22,
   "metadata": {},
   "outputs": [
    {
     "data": {
      "text/plain": [
       "'roup- Wikipedia\\n'"
      ]
     },
     "execution_count": 22,
     "metadata": {},
     "output_type": "execute_result"
    }
   ],
   "source": [
    "file.readline()"
   ]
  },
  {
   "cell_type": "markdown",
   "metadata": {},
   "source": [
    "In terms of speed, all of them are more or less in the same category. As for which solution works best for us depends on specific use case."
   ]
  },
  {
   "cell_type": "markdown",
   "metadata": {},
   "source": [
    "# File prompt from User:"
   ]
  },
  {
   "cell_type": "code",
   "execution_count": 54,
   "metadata": {},
   "outputs": [],
   "source": [
    "import tkinter.filedialog\n",
    "\n",
    "#tkinter.filedialog.askopenfilename()\n",
    "\n",
    "##opens browser window for chossing file and returns entire path of file.\n",
    "#'C:/Python36/Code/Migration.txt'"
   ]
  },
  {
   "cell_type": "code",
   "execution_count": 55,
   "metadata": {},
   "outputs": [],
   "source": [
    "from_filename=tkinter.filedialog.askopenfilename()"
   ]
  },
  {
   "cell_type": "code",
   "execution_count": 56,
   "metadata": {},
   "outputs": [
    {
     "data": {
      "text/plain": [
       "'C:/Users/mmondal1/Desktop/PythonNotebook/UnitedHealthGroup.txt'"
      ]
     },
     "execution_count": 56,
     "metadata": {},
     "output_type": "execute_result"
    }
   ],
   "source": [
    "from_filename"
   ]
  },
  {
   "cell_type": "code",
   "execution_count": 57,
   "metadata": {},
   "outputs": [
    {
     "data": {
      "text/plain": [
       "<function TextIOWrapper.close()>"
      ]
     },
     "execution_count": 57,
     "metadata": {},
     "output_type": "execute_result"
    }
   ],
   "source": [
    "file= open(from_filename,'r')\n",
    "contents=file.read()\n",
    "file.close"
   ]
  },
  {
   "cell_type": "code",
   "execution_count": 58,
   "metadata": {},
   "outputs": [
    {
     "name": "stdout",
     "output_type": "stream",
     "text": [
      "UnitedHealth Group- Wikipedia\n",
      "\n",
      "UnitedHealth Group Incorporated is an American for-profit managed health care company\n",
      "based in Minnetonka, Minnesota. It offers health care products and insurance services.\n",
      "It is the largest healthcare company in the world by revenue, with 2018 revenue of $226.2 billion and 115 million customers.\n",
      "\n",
      "UnitedHealthcare includes divisions: \n",
      "UnitedHealthcare Employer and Individual - provides health benefit plans and services for large national employers\n",
      "UnitedHealthcare Medicare and Retirement - provides health and well-being services to individuals age 65 and older.\n",
      "UnitedHealthcare Community and State - serves state programs that care for the economically disadvantaged, the medically underserved and people without the benefit of employer-funded health care coverage, in exchange for a monthly premium per member from the state program.\n"
     ]
    }
   ],
   "source": [
    "print(contents)"
   ]
  },
  {
   "cell_type": "code",
   "execution_count": null,
   "metadata": {},
   "outputs": [],
   "source": []
  }
 ],
 "metadata": {
  "kernelspec": {
   "display_name": "Python 3",
   "language": "python",
   "name": "python3"
  },
  "language_info": {
   "codemirror_mode": {
    "name": "ipython",
    "version": 3
   },
   "file_extension": ".py",
   "mimetype": "text/x-python",
   "name": "python",
   "nbconvert_exporter": "python",
   "pygments_lexer": "ipython3",
   "version": "3.7.3"
  }
 },
 "nbformat": 4,
 "nbformat_minor": 2
}
