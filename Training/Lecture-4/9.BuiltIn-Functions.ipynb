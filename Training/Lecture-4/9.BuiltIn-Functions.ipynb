{
 "cells": [
  {
   "cell_type": "markdown",
   "metadata": {},
   "source": [
    "# ***<center>Important built-in functions</center>***\n",
    "<img src=http://s2.quickmeme.com/img/2d/2ddc7d5b4e7d6ee47bfd5b33acf3a1201b49877a4163d5f49ee5ba05685ccaae.jpg height=400 width=400>"
   ]
  },
  {
   "cell_type": "markdown",
   "metadata": {},
   "source": [
    "## 1. sort\n",
    "\n",
    "<img src=http://s2.quickmeme.com/img/96/963e77d9824553104fd63cb3cbcd81867a61672d89482bc7a492aaa8f6935449.jpg height=400 width=400>\n",
    "\n",
    "- In place sorting: __iterable__.sort()\n",
    "    \n",
    "    \n",
    "- Return a sorted iterable: sorted(__iterable__)\n",
    "\n",
    "\n",
    "- Two optional arguments: **key** and **reverse**.\n",
    "    - ***key***: specifies a **function of one argument** that is used to extract a **comparison key** from each list element\n",
    "    - ***reverse***: A boolean value. If set to True, then the list elements are sorted as if each comparison were reversed."
   ]
  },
  {
   "cell_type": "code",
   "execution_count": 1,
   "metadata": {},
   "outputs": [],
   "source": [
    "l = [5,4,3,2,1]"
   ]
  },
  {
   "cell_type": "code",
   "execution_count": 2,
   "metadata": {},
   "outputs": [],
   "source": [
    "k = sorted(l)"
   ]
  },
  {
   "cell_type": "code",
   "execution_count": 3,
   "metadata": {},
   "outputs": [
    {
     "data": {
      "text/plain": [
       "[1, 2, 3, 4, 5]"
      ]
     },
     "execution_count": 3,
     "metadata": {},
     "output_type": "execute_result"
    }
   ],
   "source": [
    "k"
   ]
  },
  {
   "cell_type": "code",
   "execution_count": 4,
   "metadata": {},
   "outputs": [
    {
     "data": {
      "text/plain": [
       "[5, 4, 3, 2, 1]"
      ]
     },
     "execution_count": 4,
     "metadata": {},
     "output_type": "execute_result"
    }
   ],
   "source": [
    "l"
   ]
  },
  {
   "cell_type": "code",
   "execution_count": 5,
   "metadata": {},
   "outputs": [],
   "source": [
    "l.sort()"
   ]
  },
  {
   "cell_type": "code",
   "execution_count": 6,
   "metadata": {},
   "outputs": [
    {
     "data": {
      "text/plain": [
       "[1, 2, 3, 4, 5]"
      ]
     },
     "execution_count": 6,
     "metadata": {},
     "output_type": "execute_result"
    }
   ],
   "source": [
    "l"
   ]
  },
  {
   "cell_type": "code",
   "execution_count": 7,
   "metadata": {},
   "outputs": [],
   "source": [
    "l = [(1,2), (3,1), (1,4), (2,3)]"
   ]
  },
  {
   "cell_type": "code",
   "execution_count": 8,
   "metadata": {},
   "outputs": [
    {
     "data": {
      "text/plain": [
       "[(1, 2), (1, 4), (2, 3), (3, 1)]"
      ]
     },
     "execution_count": 8,
     "metadata": {},
     "output_type": "execute_result"
    }
   ],
   "source": [
    "sorted(l)"
   ]
  },
  {
   "cell_type": "code",
   "execution_count": 9,
   "metadata": {},
   "outputs": [
    {
     "data": {
      "text/plain": [
       "[(3, 1), (2, 3), (1, 4), (1, 2)]"
      ]
     },
     "execution_count": 9,
     "metadata": {},
     "output_type": "execute_result"
    }
   ],
   "source": [
    "sorted(l, reverse=True)"
   ]
  },
  {
   "cell_type": "code",
   "execution_count": 10,
   "metadata": {},
   "outputs": [
    {
     "data": {
      "text/plain": [
       "[(1, 2), (3, 1), (1, 4), (2, 3)]"
      ]
     },
     "execution_count": 10,
     "metadata": {},
     "output_type": "execute_result"
    }
   ],
   "source": [
    "l"
   ]
  },
  {
   "cell_type": "code",
   "execution_count": 11,
   "metadata": {},
   "outputs": [
    {
     "data": {
      "text/plain": [
       "[(1, 4), (1, 2), (2, 3), (3, 1)]"
      ]
     },
     "execution_count": 11,
     "metadata": {},
     "output_type": "execute_result"
    }
   ],
   "source": [
    "sorted(l, key = lambda x:(x[0],-x[1]))"
   ]
  },
  {
   "cell_type": "code",
   "execution_count": 12,
   "metadata": {},
   "outputs": [
    {
     "data": {
      "text/plain": [
       "[(1, 2), (3, 1), (1, 4), (2, 3)]"
      ]
     },
     "execution_count": 12,
     "metadata": {},
     "output_type": "execute_result"
    }
   ],
   "source": [
    "l"
   ]
  },
  {
   "cell_type": "markdown",
   "metadata": {},
   "source": [
    "## 2. enumerate\n",
    "\n",
    "```python\n",
    "enumerate(iterable)\n",
    "```\n",
    "\n",
    "Returns a tuple containing a count (from start which defaults to 0) and the values obtained from iterating over the iterable."
   ]
  },
  {
   "cell_type": "code",
   "execution_count": 42,
   "metadata": {},
   "outputs": [],
   "source": [
    "l= [0,1,3,4]"
   ]
  },
  {
   "cell_type": "code",
   "execution_count": 14,
   "metadata": {},
   "outputs": [
    {
     "name": "stdout",
     "output_type": "stream",
     "text": [
      "0\n",
      "1\n"
     ]
    }
   ],
   "source": [
    "for i in range(len(l)):\n",
    "    if l[i] == i:\n",
    "        print(l[i])"
   ]
  },
  {
   "cell_type": "code",
   "execution_count": 43,
   "metadata": {},
   "outputs": [
    {
     "name": "stdout",
     "output_type": "stream",
     "text": [
      "0 0\n",
      "1 1\n",
      "2 3\n",
      "3 4\n"
     ]
    }
   ],
   "source": [
    "for idx, ele in enumerate(l):\n",
    "    print(idx,ele)"
   ]
  },
  {
   "cell_type": "code",
   "execution_count": 16,
   "metadata": {},
   "outputs": [
    {
     "data": {
      "text/plain": [
       "[(0, 0), (1, 1), (2, 3), (3, 4)]"
      ]
     },
     "execution_count": 16,
     "metadata": {},
     "output_type": "execute_result"
    }
   ],
   "source": [
    "list(enumerate(l))"
   ]
  },
  {
   "cell_type": "code",
   "execution_count": 17,
   "metadata": {},
   "outputs": [],
   "source": [
    "l = (1,2,3)"
   ]
  },
  {
   "cell_type": "code",
   "execution_count": null,
   "metadata": {},
   "outputs": [],
   "source": []
  },
  {
   "cell_type": "code",
   "execution_count": null,
   "metadata": {},
   "outputs": [],
   "source": []
  },
  {
   "cell_type": "code",
   "execution_count": 18,
   "metadata": {},
   "outputs": [],
   "source": [
    "a = 1\n",
    "b = 2\n",
    "c = 3\n",
    "d = 4"
   ]
  },
  {
   "cell_type": "code",
   "execution_count": 19,
   "metadata": {},
   "outputs": [],
   "source": [
    "a,b,c,d = b,a,d,c"
   ]
  },
  {
   "cell_type": "code",
   "execution_count": 20,
   "metadata": {},
   "outputs": [
    {
     "data": {
      "text/plain": [
       "4"
      ]
     },
     "execution_count": 20,
     "metadata": {},
     "output_type": "execute_result"
    }
   ],
   "source": [
    "c"
   ]
  },
  {
   "cell_type": "code",
   "execution_count": 21,
   "metadata": {},
   "outputs": [
    {
     "data": {
      "text/plain": [
       "1"
      ]
     },
     "execution_count": 21,
     "metadata": {},
     "output_type": "execute_result"
    }
   ],
   "source": [
    "b"
   ]
  },
  {
   "cell_type": "code",
   "execution_count": 22,
   "metadata": {},
   "outputs": [],
   "source": [
    "l = [(1,2), (2,3), (3,2)]"
   ]
  },
  {
   "cell_type": "code",
   "execution_count": 23,
   "metadata": {},
   "outputs": [
    {
     "name": "stdout",
     "output_type": "stream",
     "text": [
      "1 2\n",
      "2 3\n",
      "3 2\n"
     ]
    }
   ],
   "source": [
    "for x,y in l:\n",
    "    print(x,y)"
   ]
  },
  {
   "cell_type": "markdown",
   "metadata": {},
   "source": [
    "## 3. zip\n",
    "\n",
    "Make an iterator that aggregates elements from each of the iterables.\n",
    "\n",
    "![](http://s2.quickmeme.com/img/56/568cf8f60a23bea949f5bc0143607934e7fd8a7e5d0f5c44b86fc12c1ffb8185.jpg)"
   ]
  },
  {
   "cell_type": "code",
   "execution_count": 46,
   "metadata": {},
   "outputs": [],
   "source": [
    "names = ['Ram', 'Shyam', 'Ravi', 'Mohan']\n",
    "scores = [3,4,5,2]"
   ]
  },
  {
   "cell_type": "code",
   "execution_count": 47,
   "metadata": {},
   "outputs": [
    {
     "data": {
      "text/plain": [
       "[('Ram', 3), ('Shyam', 4), ('Ravi', 5), ('Mohan', 2)]"
      ]
     },
     "execution_count": 47,
     "metadata": {},
     "output_type": "execute_result"
    }
   ],
   "source": [
    "list(zip(names, scores))"
   ]
  },
  {
   "cell_type": "markdown",
   "metadata": {},
   "source": [
    "## 4. all and any\n",
    "\n",
    "![](https://i.imgflip.com/21cqld.jpg)\n",
    "\n",
    "- all\n",
    "\n",
    "Returns true if all of the items are True (or if the iterable is empty). All can be thought of as a sequence of AND operations on the provided iterables. It also short circuit the execution i.e. stop the execution as soon as the result is known.\n",
    " \n",
    "\n",
    "- any\n",
    "\n",
    "Returns true if any of the items is True. It returns False if empty or all are false. Any can be thought of as a sequence of OR operations on the provided iterables.\n",
    "It short circuit the execution i.e. stop the execution as soon as the result is known."
   ]
  },
  {
   "cell_type": "code",
   "execution_count": 48,
   "metadata": {},
   "outputs": [],
   "source": [
    "l = []"
   ]
  },
  {
   "cell_type": "code",
   "execution_count": 49,
   "metadata": {},
   "outputs": [
    {
     "data": {
      "text/plain": [
       "True"
      ]
     },
     "execution_count": 49,
     "metadata": {},
     "output_type": "execute_result"
    }
   ],
   "source": [
    "all(l)"
   ]
  },
  {
   "cell_type": "code",
   "execution_count": 50,
   "metadata": {},
   "outputs": [
    {
     "data": {
      "text/plain": [
       "False"
      ]
     },
     "execution_count": 50,
     "metadata": {},
     "output_type": "execute_result"
    }
   ],
   "source": [
    "any(l)"
   ]
  },
  {
   "cell_type": "code",
   "execution_count": 31,
   "metadata": {},
   "outputs": [
    {
     "name": "stdout",
     "output_type": "stream",
     "text": [
      "True\n"
     ]
    }
   ],
   "source": [
    "print (any([False,True]))"
   ]
  },
  {
   "cell_type": "code",
   "execution_count": 32,
   "metadata": {},
   "outputs": [
    {
     "name": "stdout",
     "output_type": "stream",
     "text": [
      "False\n"
     ]
    }
   ],
   "source": [
    "print (all([False,True]))"
   ]
  },
  {
   "cell_type": "code",
   "execution_count": null,
   "metadata": {},
   "outputs": [],
   "source": []
  },
  {
   "cell_type": "markdown",
   "metadata": {},
   "source": [
    "## 5. globals and locals\n",
    "\n",
    "- **globals**\n",
    "\n",
    "    Return a dictionary representing the current global symbol table. \n",
    "    \n",
    "- **locals**\n",
    "\n",
    "    Return a dictionary representing the current local symbol table."
   ]
  },
  {
   "cell_type": "code",
   "execution_count": 33,
   "metadata": {},
   "outputs": [
    {
     "data": {
      "text/plain": [
       "{'__name__': '__main__',\n",
       " '__doc__': 'Automatically created module for IPython interactive environment',\n",
       " '__package__': None,\n",
       " '__loader__': None,\n",
       " '__spec__': None,\n",
       " '__builtin__': <module 'builtins' (built-in)>,\n",
       " '__builtins__': <module 'builtins' (built-in)>,\n",
       " '_ih': ['',\n",
       "  'l = [5,4,3,2,1]',\n",
       "  'k = sorted(l)',\n",
       "  'k',\n",
       "  'l',\n",
       "  'l.sort()',\n",
       "  'l',\n",
       "  'l = [(1,2), (3,1), (1,4), (2,3)]',\n",
       "  'sorted(l)',\n",
       "  'sorted(l, reverse=True)',\n",
       "  'l',\n",
       "  'sorted(l, key = lambda x:(x[0],-x[1]))',\n",
       "  'l',\n",
       "  'l= [0,1,3,4]',\n",
       "  'for i in range(len(l)):\\n    if l[i] == i:\\n        print(l[i])',\n",
       "  'for idx, ele in enumerate(l):\\n    if idx == ele:\\n        print (idx,ele)',\n",
       "  'list(enumerate(l))',\n",
       "  'l = (1,2,3)',\n",
       "  'a = 1\\nb = 2\\nc = 3\\nd = 4',\n",
       "  'a,b,c,d = b,a,d,c',\n",
       "  'c',\n",
       "  'b',\n",
       "  'l = [(1,2), (2,3), (3,2)]',\n",
       "  'for x,y in l:\\n    print(x,y)',\n",
       "  \"names = ['Ram', 'Shyam', 'Ravi', 'Mohan']\\nscores = [3,4,5,2]\",\n",
       "  'list(zip(names, scores))',\n",
       "  'l = []',\n",
       "  'all(l)',\n",
       "  'any(l)',\n",
       "  \"print (any(['False','True']))\",\n",
       "  \"print (all(['False','True']))\",\n",
       "  'print (any([False,True]))',\n",
       "  'print (all([False,True]))',\n",
       "  'globals()'],\n",
       " '_oh': {3: [1, 2, 3, 4, 5],\n",
       "  4: [1, 2, 3, 4, 5],\n",
       "  6: [1, 2, 3, 4, 5],\n",
       "  8: [(1, 2), (1, 4), (2, 3), (3, 1)],\n",
       "  9: [(3, 1), (2, 3), (1, 4), (1, 2)],\n",
       "  10: [(1, 2), (3, 1), (1, 4), (2, 3)],\n",
       "  11: [(1, 4), (1, 2), (2, 3), (3, 1)],\n",
       "  12: [(1, 2), (3, 1), (1, 4), (2, 3)],\n",
       "  16: [(0, 0), (1, 1), (2, 3), (3, 4)],\n",
       "  20: 4,\n",
       "  21: 1,\n",
       "  25: [('Ram', 3), ('Shyam', 4), ('Ravi', 5), ('Mohan', 2)],\n",
       "  27: True,\n",
       "  28: False},\n",
       " '_dh': ['C:\\\\Users\\\\achhabra\\\\Documents\\\\PythonScripts\\\\python-dev-march-18\\\\Lecture-4'],\n",
       " 'In': ['',\n",
       "  'l = [5,4,3,2,1]',\n",
       "  'k = sorted(l)',\n",
       "  'k',\n",
       "  'l',\n",
       "  'l.sort()',\n",
       "  'l',\n",
       "  'l = [(1,2), (3,1), (1,4), (2,3)]',\n",
       "  'sorted(l)',\n",
       "  'sorted(l, reverse=True)',\n",
       "  'l',\n",
       "  'sorted(l, key = lambda x:(x[0],-x[1]))',\n",
       "  'l',\n",
       "  'l= [0,1,3,4]',\n",
       "  'for i in range(len(l)):\\n    if l[i] == i:\\n        print(l[i])',\n",
       "  'for idx, ele in enumerate(l):\\n    if idx == ele:\\n        print (idx,ele)',\n",
       "  'list(enumerate(l))',\n",
       "  'l = (1,2,3)',\n",
       "  'a = 1\\nb = 2\\nc = 3\\nd = 4',\n",
       "  'a,b,c,d = b,a,d,c',\n",
       "  'c',\n",
       "  'b',\n",
       "  'l = [(1,2), (2,3), (3,2)]',\n",
       "  'for x,y in l:\\n    print(x,y)',\n",
       "  \"names = ['Ram', 'Shyam', 'Ravi', 'Mohan']\\nscores = [3,4,5,2]\",\n",
       "  'list(zip(names, scores))',\n",
       "  'l = []',\n",
       "  'all(l)',\n",
       "  'any(l)',\n",
       "  \"print (any(['False','True']))\",\n",
       "  \"print (all(['False','True']))\",\n",
       "  'print (any([False,True]))',\n",
       "  'print (all([False,True]))',\n",
       "  'globals()'],\n",
       " 'Out': {3: [1, 2, 3, 4, 5],\n",
       "  4: [1, 2, 3, 4, 5],\n",
       "  6: [1, 2, 3, 4, 5],\n",
       "  8: [(1, 2), (1, 4), (2, 3), (3, 1)],\n",
       "  9: [(3, 1), (2, 3), (1, 4), (1, 2)],\n",
       "  10: [(1, 2), (3, 1), (1, 4), (2, 3)],\n",
       "  11: [(1, 4), (1, 2), (2, 3), (3, 1)],\n",
       "  12: [(1, 2), (3, 1), (1, 4), (2, 3)],\n",
       "  16: [(0, 0), (1, 1), (2, 3), (3, 4)],\n",
       "  20: 4,\n",
       "  21: 1,\n",
       "  25: [('Ram', 3), ('Shyam', 4), ('Ravi', 5), ('Mohan', 2)],\n",
       "  27: True,\n",
       "  28: False},\n",
       " 'get_ipython': <bound method InteractiveShell.get_ipython of <ipykernel.zmqshell.ZMQInteractiveShell object at 0x000001EEBD6D8F28>>,\n",
       " 'exit': <IPython.core.autocall.ZMQExitAutocall at 0x1eebda5b518>,\n",
       " 'quit': <IPython.core.autocall.ZMQExitAutocall at 0x1eebda5b518>,\n",
       " '_': False,\n",
       " '__': True,\n",
       " '___': [('Ram', 3), ('Shyam', 4), ('Ravi', 5), ('Mohan', 2)],\n",
       " '_i': 'print (all([False,True]))',\n",
       " '_ii': 'print (any([False,True]))',\n",
       " '_iii': \"print (all(['False','True']))\",\n",
       " '_i1': 'l = [5,4,3,2,1]',\n",
       " 'l': [],\n",
       " '_i2': 'k = sorted(l)',\n",
       " 'k': [1, 2, 3, 4, 5],\n",
       " '_i3': 'k',\n",
       " '_3': [1, 2, 3, 4, 5],\n",
       " '_i4': 'l',\n",
       " '_4': [1, 2, 3, 4, 5],\n",
       " '_i5': 'l.sort()',\n",
       " '_i6': 'l',\n",
       " '_6': [1, 2, 3, 4, 5],\n",
       " '_i7': 'l = [(1,2), (3,1), (1,4), (2,3)]',\n",
       " '_i8': 'sorted(l)',\n",
       " '_8': [(1, 2), (1, 4), (2, 3), (3, 1)],\n",
       " '_i9': 'sorted(l, reverse=True)',\n",
       " '_9': [(3, 1), (2, 3), (1, 4), (1, 2)],\n",
       " '_i10': 'l',\n",
       " '_10': [(1, 2), (3, 1), (1, 4), (2, 3)],\n",
       " '_i11': 'sorted(l, key = lambda x:(x[0],-x[1]))',\n",
       " '_11': [(1, 4), (1, 2), (2, 3), (3, 1)],\n",
       " '_i12': 'l',\n",
       " '_12': [(1, 2), (3, 1), (1, 4), (2, 3)],\n",
       " '_i13': 'l= [0,1,3,4]',\n",
       " '_i14': 'for i in range(len(l)):\\n    if l[i] == i:\\n        print(l[i])',\n",
       " 'i': 3,\n",
       " '_i15': 'for idx, ele in enumerate(l):\\n    if idx == ele:\\n        print (idx,ele)',\n",
       " 'idx': 3,\n",
       " 'ele': 4,\n",
       " '_i16': 'list(enumerate(l))',\n",
       " '_16': [(0, 0), (1, 1), (2, 3), (3, 4)],\n",
       " '_i17': 'l = (1,2,3)',\n",
       " '_i18': 'a = 1\\nb = 2\\nc = 3\\nd = 4',\n",
       " 'a': 2,\n",
       " 'b': 1,\n",
       " 'c': 4,\n",
       " 'd': 3,\n",
       " '_i19': 'a,b,c,d = b,a,d,c',\n",
       " '_i20': 'c',\n",
       " '_20': 4,\n",
       " '_i21': 'b',\n",
       " '_21': 1,\n",
       " '_i22': 'l = [(1,2), (2,3), (3,2)]',\n",
       " '_i23': 'for x,y in l:\\n    print(x,y)',\n",
       " 'x': 3,\n",
       " 'y': 2,\n",
       " '_i24': \"names = ['Ram', 'Shyam', 'Ravi', 'Mohan']\\nscores = [3,4,5,2]\",\n",
       " 'names': ['Ram', 'Shyam', 'Ravi', 'Mohan'],\n",
       " 'scores': [3, 4, 5, 2],\n",
       " '_i25': 'list(zip(names, scores))',\n",
       " '_25': [('Ram', 3), ('Shyam', 4), ('Ravi', 5), ('Mohan', 2)],\n",
       " '_i26': 'l = []',\n",
       " '_i27': 'all(l)',\n",
       " '_27': True,\n",
       " '_i28': 'any(l)',\n",
       " '_28': False,\n",
       " '_i29': \"print (any(['False','True']))\",\n",
       " '_i30': \"print (all(['False','True']))\",\n",
       " '_i31': 'print (any([False,True]))',\n",
       " '_i32': 'print (all([False,True]))',\n",
       " '_i33': 'globals()'}"
      ]
     },
     "execution_count": 33,
     "metadata": {},
     "output_type": "execute_result"
    }
   ],
   "source": [
    "globals()"
   ]
  },
  {
   "cell_type": "code",
   "execution_count": null,
   "metadata": {},
   "outputs": [],
   "source": []
  },
  {
   "cell_type": "code",
   "execution_count": 34,
   "metadata": {},
   "outputs": [],
   "source": [
    "def myfunc(a,b):\n",
    "    c=a+b\n",
    "    print(locals())\n",
    "    return c"
   ]
  },
  {
   "cell_type": "code",
   "execution_count": null,
   "metadata": {},
   "outputs": [],
   "source": []
  },
  {
   "cell_type": "code",
   "execution_count": 35,
   "metadata": {},
   "outputs": [
    {
     "name": "stdout",
     "output_type": "stream",
     "text": [
      "{'a': 1, 'b': 2, 'c': 3}\n"
     ]
    },
    {
     "data": {
      "text/plain": [
       "3"
      ]
     },
     "execution_count": 35,
     "metadata": {},
     "output_type": "execute_result"
    }
   ],
   "source": [
    "myfunc(1,2)"
   ]
  },
  {
   "cell_type": "markdown",
   "metadata": {},
   "source": [
    "## 6. eval\n",
    "\n",
    "```python\n",
    "eval(expression, globals=None, locals=None)\n",
    "```\n",
    "\n",
    "The expression argument is parsed and evaluated as a Python expression using the globals and locals dictionaries as global and local namespace."
   ]
  },
  {
   "cell_type": "code",
   "execution_count": 38,
   "metadata": {},
   "outputs": [
    {
     "name": "stdout",
     "output_type": "stream",
     "text": [
      "4\n",
      "4\n"
     ]
    }
   ],
   "source": [
    "print (eval(\"2+2\"))\n",
    "print (2+2)"
   ]
  },
  {
   "cell_type": "markdown",
   "metadata": {},
   "source": [
    "## Other built-in functions can be found [here](https://docs.python.org/3/library/functions.html)"
   ]
  },
  {
   "cell_type": "code",
   "execution_count": 3,
   "metadata": {},
   "outputs": [
    {
     "name": "stdout",
     "output_type": "stream",
     "text": [
      "1 0\n",
      "division by zero\n",
      "everything\n"
     ]
    }
   ],
   "source": [
    "try:\n",
    "    a,b = list(map(int, input().split()))\n",
    "    print(a/b)\n",
    "    print(1 + 2)\n",
    "except Exception as e:\n",
    "    print(e)\n",
    "else:\n",
    "    print(\"success\")\n",
    "finally:\n",
    "    print(\"everything\")"
   ]
  },
  {
   "cell_type": "code",
   "execution_count": 1,
   "metadata": {},
   "outputs": [],
   "source": [
    "# else Finally"
   ]
  },
  {
   "cell_type": "code",
   "execution_count": 2,
   "metadata": {},
   "outputs": [
    {
     "name": "stdout",
     "output_type": "stream",
     "text": [
      "2 2\n",
      "1.0\n",
      "3\n",
      "success\n",
      "everything\n"
     ]
    }
   ],
   "source": [
    "try:\n",
    "    a,b = list(map(int, input().split()))\n",
    "    print(a/b)\n",
    "    print(1 + 2)\n",
    "except Exception as e:\n",
    "    print(e)\n",
    "else:\n",
    "    print(\"success\")\n",
    "finally:\n",
    "    print(\"everything\")"
   ]
  },
  {
   "cell_type": "code",
   "execution_count": null,
   "metadata": {},
   "outputs": [],
   "source": []
  },
  {
   "cell_type": "code",
   "execution_count": null,
   "metadata": {},
   "outputs": [],
   "source": []
  },
  {
   "cell_type": "code",
   "execution_count": null,
   "metadata": {},
   "outputs": [],
   "source": []
  },
  {
   "cell_type": "code",
   "execution_count": null,
   "metadata": {},
   "outputs": [],
   "source": []
  }
 ],
 "metadata": {
  "kernelspec": {
   "display_name": "Python 3",
   "language": "python",
   "name": "python3"
  },
  "language_info": {
   "codemirror_mode": {
    "name": "ipython",
    "version": 3
   },
   "file_extension": ".py",
   "mimetype": "text/x-python",
   "name": "python",
   "nbconvert_exporter": "python",
   "pygments_lexer": "ipython3",
   "version": "3.7.3"
  }
 },
 "nbformat": 4,
 "nbformat_minor": 2
}
